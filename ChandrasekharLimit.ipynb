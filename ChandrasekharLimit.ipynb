{
 "cells": [
  {
   "attachments": {},
   "cell_type": "markdown",
   "metadata": {},
   "source": [
    "some packages to be imported first"
   ]
  },
  {
   "cell_type": "code",
   "execution_count": 9,
   "metadata": {},
   "outputs": [],
   "source": [
    "import numpy as np\n",
    "import matplotlib.pyplot as plt"
   ]
  },
  {
   "attachments": {},
   "cell_type": "markdown",
   "metadata": {},
   "source": [
    "define some constant in cgs units"
   ]
  },
  {
   "cell_type": "code",
   "execution_count": 10,
   "metadata": {},
   "outputs": [],
   "source": [
    "G = 6.672e-8 # Gravitational constant in cgs units\n",
    "M_solar=1.989e33 # Solar mass in g\n",
    "m_e = 9.109534e-28 # electron mass in g\n",
    "m_p = 1.6726231e-24 # proton mass in g\n",
    "mu=2 # the number of protons or neutrons per electron\n",
    "m = mu*m_p+m_e # mass of the atom in g\n",
    "h_bar = 1.0545997e-27 # Planck's constant in erg s\n",
    "c = 2.99792458e10 # cm/s\n",
    "lambda_e= h_bar/ (m_e*c) # electron rest wavelength in cm "
   ]
  },
  {
   "attachments": {},
   "cell_type": "markdown",
   "metadata": {},
   "source": [
    "a map from x to phi"
   ]
  },
  {
   "cell_type": "code",
   "execution_count": 11,
   "metadata": {},
   "outputs": [],
   "source": [
    "def phi(x)->float:\n",
    "    return (x*np.sqrt(1+x**2)*((2/3)*(x**2)-1)+np.log(x+np.sqrt(1+x**2)))/(8*np.pi**2)"
   ]
  },
  {
   "attachments": {},
   "cell_type": "markdown",
   "metadata": {},
   "source": [
    "define the equation of state function  EoS: P_e = EoS(rho)"
   ]
  },
  {
   "cell_type": "code",
   "execution_count": 12,
   "metadata": {},
   "outputs": [],
   "source": [
    "def EoS(rho)->float:\n",
    "    n=rho/m # number density of electrons in cm^-3\n",
    "    x = np.power(3*(np.pi**2)*n,1/3)*lambda_e # dimensionless parameter\n",
    "    P_e = m_e*(c**2)*phi(x)/lambda_e**3 #pressure of zero temperature electrons in erg/cm^3\n",
    "    return P_e\n",
    "    #return 1/4*np.power(3*np.pi**2*rho/m,1/3)*rho/m*h_bar*c\n"
   ]
  },
  {
   "attachments": {},
   "cell_type": "markdown",
   "metadata": {},
   "source": [
    "plot to check if correct, compare it with the extreme relativity scenario(orange)."
   ]
  },
  {
   "cell_type": "code",
   "execution_count": 13,
   "metadata": {},
   "outputs": [
    {
     "data": {
      "image/png": "[encoded data removed]",
      "text/plain": [
       "<Figure size 432x288 with 1 Axes>"
      ]
     },
     "metadata": {
      "needs_background": "light"
     },
     "output_type": "display_data"
    }
   ],
   "source": [
    "rho_test=np.logspace(5,8,100)\n",
    "P_test=EoS(rho_test)\n",
    "plt.loglog(rho_test,P_test)\n",
    "plt.loglog(rho_test,1/4*np.power(3*np.pi**2*rho_test/m,1/3)*rho_test/m*h_bar*c)\n",
    "plt.title('the log-log plot of the pressure vs density')\n",
    "plt.xlabel(\"Density\")\n",
    "plt.ylabel('Pressure')\n",
    "plt.show()"
   ]
  },
  {
   "attachments": {},
   "cell_type": "markdown",
   "metadata": {},
   "source": [
    "a simple binary search code, the accuracy depends on the abortion criteria"
   ]
  },
  {
   "cell_type": "code",
   "execution_count": 25,
   "metadata": {},
   "outputs": [],
   "source": [
    "def inv_B(P)->float:\n",
    "    rho_l=-1e14\n",
    "    rho_r=1e14\n",
    "    while(rho_r-rho_l>1e-1):\n",
    "        rho_m=(rho_l+rho_r)/2\n",
    "        if(EoS(rho_m)>P):\n",
    "            rho_r=rho_m\n",
    "        else:\n",
    "            rho_l=rho_m\n",
    "    return rho_m"
   ]
  },
  {
   "attachments": {},
   "cell_type": "markdown",
   "metadata": {},
   "source": [
    "MCrun serves as a function to solve for one specific input: rho_c"
   ]
  },
  {
   "cell_type": "code",
   "execution_count": 22,
   "metadata": {},
   "outputs": [],
   "source": [
    "def MRrun(rho_c):\n",
    "    #rho_c = 1e8 # central density in g/cm^3\n",
    "    step_r = 1e5 # step size in cm\n",
    "    P_c = EoS(rho_c) # central pressure in erg/cm^3\n",
    "        #solution arrays\n",
    "    rho_sol = np.array([rho_c]) # density solution\n",
    "\n",
    "    r_start = step_r*0 # starting radius in cm\n",
    "    r_sol = np.array([r_start]) # radius solution\n",
    "\n",
    "    P_sol = np.array([P_c]) # pressure solution\n",
    "    i=0 \n",
    "    Mass_acc = 4/3*np.pi*r_start**3*rho_c #mass accumulated in g\n",
    "        #loop\n",
    "\n",
    "    while( rho_sol[i]>0 ): # stop when density is negative\n",
    "        r_sol = np.append( r_sol , r_sol[i]+step_r ) # append the next radius\n",
    "        Mass_acc += rho_sol[i] * 4*np.pi*(r_sol[i]**2) * step_r # accumulate mass\n",
    "        P_sol = np.append( P_sol , P_sol[i] - G*rho_sol[i]*Mass_acc/(r_sol[i+1]**2)*step_r ) # append the next pressure\n",
    "        i+=1\n",
    "        rho_sol = np.append( rho_sol , inv_B(P_sol[i]) ) # append the next density\n",
    "\n",
    "        #print(rho_sol[i],P_sol[i],r_sol[i]/1e5,Mass_acc/M_solar) # print the current density, pressure and radius\n",
    "    return (Mass_acc/M_solar,r_sol[i]/1e5) # return the mass and radius in solar mass and km"
   ]
  },
  {
   "attachments": {},
   "cell_type": "markdown",
   "metadata": {},
   "source": [
    "test if the function works"
   ]
  },
  {
   "cell_type": "code",
   "execution_count": 16,
   "metadata": {},
   "outputs": [
    {
     "name": "stdout",
     "output_type": "stream",
     "text": [
      "1.1621536017807814 4295.0\n"
     ]
    },
    {
     "name": "stderr",
     "output_type": "stream",
     "text": [
      "/var/folders/9r/d810_63d7yx101gkrv_41ygm0000gn/T/ipykernel_86356/3558340524.py:3: RuntimeWarning: invalid value encountered in power\n",
      "  x = np.power(3*(np.pi**2)*n,1/3)*lambda_e # dimensionless parameter\n"
     ]
    }
   ],
   "source": [
    "rho_c = 1e8 # central density in g/cm^3\n",
    "mass,radius = MRrun( rho_c ) # run the code\n",
    "print(mass,radius) # print the mass and radius"
   ]
  },
  {
   "attachments": {},
   "cell_type": "markdown",
   "metadata": {},
   "source": [
    "simulate each rho_c, ranging from 1e5 to 1e14, running 100 samples."
   ]
  },
  {
   "cell_type": "code",
   "execution_count": 26,
   "metadata": {},
   "outputs": [
    {
     "name": "stderr",
     "output_type": "stream",
     "text": [
      "/var/folders/9r/d810_63d7yx101gkrv_41ygm0000gn/T/ipykernel_86356/3558340524.py:3: RuntimeWarning: invalid value encountered in power\n",
      "  x = np.power(3*(np.pi**2)*n,1/3)*lambda_e # dimensionless parameter\n"
     ]
    },
    {
     "name": "stdout",
     "output_type": "stream",
     "text": [
      "10000000000000.0 140.0 1.4181710982983249\n",
      "12915496650148.826 128.0 1.4166912062571464\n",
      "16681005372000.557 117.0 1.4150602636071292\n",
      "21544346900318.867 107.0 1.4132644997465487\n",
      "27825594022071.258 97.0 1.4112891636714269\n",
      "35938136638046.26 88.0 1.4091160346902585\n",
      "46415888336127.73 80.0 1.4067265928197599\n",
      "59948425031894.21 73.0 1.4040995277655632\n",
      "77426368268112.78 66.0 1.401208335405132\n",
      "100000000000000.0 60.0 1.3980281739205571\n"
     ]
    },
    {
     "ename": "IndexError",
     "evalue": "index 10 is out of bounds for axis 0 with size 10",
     "output_type": "error",
     "traceback": [
      "\u001b[0;31m---------------------------------------------------------------------------\u001b[0m",
      "\u001b[0;31mIndexError\u001b[0m                                Traceback (most recent call last)",
      "\u001b[0;32m/var/folders/9r/d810_63d7yx101gkrv_41ygm0000gn/T/ipykernel_86356/2077475387.py\u001b[0m in \u001b[0;36m<module>\u001b[0;34m\u001b[0m\n\u001b[1;32m      1\u001b[0m \u001b[0mrho_c_test\u001b[0m\u001b[0;34m=\u001b[0m\u001b[0mnp\u001b[0m\u001b[0;34m.\u001b[0m\u001b[0mlogspace\u001b[0m\u001b[0;34m(\u001b[0m\u001b[0;36m13\u001b[0m\u001b[0;34m,\u001b[0m\u001b[0;36m14\u001b[0m\u001b[0;34m,\u001b[0m\u001b[0;36m10\u001b[0m\u001b[0;34m)\u001b[0m \u001b[0;31m# central density in g/cm^3\u001b[0m\u001b[0;34m\u001b[0m\u001b[0;34m\u001b[0m\u001b[0m\n\u001b[1;32m      2\u001b[0m \u001b[0;32mfor\u001b[0m \u001b[0mj\u001b[0m \u001b[0;32min\u001b[0m \u001b[0mrange\u001b[0m\u001b[0;34m(\u001b[0m\u001b[0;36m0\u001b[0m\u001b[0;34m,\u001b[0m\u001b[0;36m100\u001b[0m\u001b[0;34m)\u001b[0m\u001b[0;34m:\u001b[0m\u001b[0;34m\u001b[0m\u001b[0;34m\u001b[0m\u001b[0m\n\u001b[0;32m----> 3\u001b[0;31m     \u001b[0mM_test\u001b[0m\u001b[0;34m,\u001b[0m\u001b[0mR_test\u001b[0m\u001b[0;34m=\u001b[0m\u001b[0mMRrun\u001b[0m\u001b[0;34m(\u001b[0m\u001b[0mrho_c_test\u001b[0m\u001b[0;34m[\u001b[0m\u001b[0mj\u001b[0m\u001b[0;34m]\u001b[0m\u001b[0;34m)\u001b[0m\u001b[0;34m\u001b[0m\u001b[0;34m\u001b[0m\u001b[0m\n\u001b[0m\u001b[1;32m      4\u001b[0m     \u001b[0mprint\u001b[0m\u001b[0;34m(\u001b[0m\u001b[0mrho_c_test\u001b[0m\u001b[0;34m[\u001b[0m\u001b[0mj\u001b[0m\u001b[0;34m]\u001b[0m\u001b[0;34m,\u001b[0m\u001b[0mR_test\u001b[0m\u001b[0;34m,\u001b[0m\u001b[0mM_test\u001b[0m\u001b[0;34m)\u001b[0m\u001b[0;34m\u001b[0m\u001b[0;34m\u001b[0m\u001b[0m\n\u001b[1;32m      5\u001b[0m     \u001b[0mplt\u001b[0m\u001b[0;34m.\u001b[0m\u001b[0mscatter\u001b[0m\u001b[0;34m(\u001b[0m\u001b[0mR_test\u001b[0m\u001b[0;34m,\u001b[0m\u001b[0mM_test\u001b[0m\u001b[0;34m)\u001b[0m\u001b[0;34m\u001b[0m\u001b[0;34m\u001b[0m\u001b[0m\n",
      "\u001b[0;31mIndexError\u001b[0m: index 10 is out of bounds for axis 0 with size 10"
     ]
    },
    {
     "data": {
      "image/png": "[encoded data removed]",
      "text/plain": [
       "<Figure size 432x288 with 1 Axes>"
      ]
     },
     "metadata": {
      "needs_background": "light"
     },
     "output_type": "display_data"
    }
   ],
   "source": [
    "rho_c_test=np.logspace(5,14,10) # central density in g/cm^3\n",
    "for j in range(0,100):\n",
    "    M_test,R_test=MRrun(rho_c_test[j]) \n",
    "    print(rho_c_test[j],R_test,M_test) \n",
    "    plt.scatter(R_test,M_test)\n",
    "plt.ylabel('M/M_solar')\n",
    "plt.xlabel('R(km)')\n",
    "plt.xlim(0,17000)\n",
    "plt.ylim(0,1.5)\n",
    "plt.title('the Mass-Radius relation')\n",
    "plt.savefig('ChandrasekharLimit.jpg',dpi=400)\n",
    "plt.show()"
   ]
  }
 ],
 "metadata": {
  "kernelspec": {
   "display_name": "base",
   "language": "python",
   "name": "python3"
  },
  "language_info": {
   "codemirror_mode": {
    "name": "ipython",
    "version": 3
   },
   "file_extension": ".py",
   "mimetype": "text/x-python",
   "name": "python",
   "nbconvert_exporter": "python",
   "pygments_lexer": "ipython3",
   "version": "3.9.7"
  },
  "orig_nbformat": 4
 },
 "nbformat": 4,
 "nbformat_minor": 2
}
